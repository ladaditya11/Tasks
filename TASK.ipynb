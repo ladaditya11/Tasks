{
 "cells": [
  {
   "cell_type": "code",
   "execution_count": 1,
   "id": "10d9ab1b-c53e-4b9d-8b75-c5f4fea10436",
   "metadata": {},
   "outputs": [
    {
     "name": "stdout",
     "output_type": "stream",
     "text": [
      "Requirement already satisfied: pandas in c:\\users\\admin\\anaconda3\\lib\\site-packages (2.1.4)\n",
      "Requirement already satisfied: sqlalchemy in c:\\users\\admin\\anaconda3\\lib\\site-packages (2.0.25)\n",
      "Requirement already satisfied: pyodbc in c:\\users\\admin\\anaconda3\\lib\\site-packages (5.0.1)\n",
      "Requirement already satisfied: numpy<2,>=1.23.2 in c:\\users\\admin\\anaconda3\\lib\\site-packages (from pandas) (1.26.4)\n",
      "Requirement already satisfied: python-dateutil>=2.8.2 in c:\\users\\admin\\anaconda3\\lib\\site-packages (from pandas) (2.8.2)\n",
      "Requirement already satisfied: pytz>=2020.1 in c:\\users\\admin\\anaconda3\\lib\\site-packages (from pandas) (2023.3.post1)\n",
      "Requirement already satisfied: tzdata>=2022.1 in c:\\users\\admin\\anaconda3\\lib\\site-packages (from pandas) (2023.3)\n",
      "Requirement already satisfied: typing-extensions>=4.6.0 in c:\\users\\admin\\anaconda3\\lib\\site-packages (from sqlalchemy) (4.9.0)\n",
      "Requirement already satisfied: greenlet!=0.4.17 in c:\\users\\admin\\anaconda3\\lib\\site-packages (from sqlalchemy) (3.0.1)\n",
      "Requirement already satisfied: six>=1.5 in c:\\users\\admin\\anaconda3\\lib\\site-packages (from python-dateutil>=2.8.2->pandas) (1.16.0)\n"
     ]
    }
   ],
   "source": [
    "!pip install pandas sqlalchemy pyodbc"
   ]
  },
  {
   "cell_type": "code",
   "execution_count": 2,
   "id": "db283b55-96c9-4f40-9a3c-d6897fda501d",
   "metadata": {},
   "outputs": [],
   "source": [
    "import urllib\n",
    "from sqlalchemy import create_engine\n",
    "\n",
    "# Replace with your actual server/instance\n",
    "server = 'DESKTOP-6UNL5C8\\SQLEXPRESS'\n",
    "database = 'olist'\n",
    "\n",
    "# Create the connection string\n",
    "conn_str = (\n",
    "    f\"DRIVER={{ODBC Driver 17 for SQL Server}};\"\n",
    "    f\"SERVER={server};\"\n",
    "    f\"DATABASE={database};\"\n",
    "    \"Trusted_Connection=yes;\"\n",
    ")\n",
    "\n",
    "# URL encode it\n",
    "conn_url = urllib.parse.quote_plus(conn_str)\n",
    "\n",
    "# Create engine\n",
    "engine = create_engine(f\"mssql+pyodbc:///?odbc_connect={conn_url}\")\n"
   ]
  },
  {
   "cell_type": "code",
   "execution_count": 3,
   "id": "5b6f089d-84d9-4105-8e3d-6b0cbf99a9d3",
   "metadata": {},
   "outputs": [
    {
     "name": "stdout",
     "output_type": "stream",
     "text": [
      "✅ Data loaded successfully!\n"
     ]
    }
   ],
   "source": [
    "import pandas as pd\n",
    "\n",
    "df = pd.read_csv(\"olist_customers_dataset.csv\")  # Update path if needed\n",
    "df.to_sql(\"customer\", con=engine, if_exists=\"replace\", index=False)\n",
    "\n",
    "print(\"✅ Data loaded successfully!\")\n"
   ]
  },
  {
   "cell_type": "code",
   "execution_count": 4,
   "id": "c4794901-f9d8-4888-a5e1-76f54182ec0b",
   "metadata": {},
   "outputs": [
    {
     "name": "stdout",
     "output_type": "stream",
     "text": [
      "Loading customer from C:\\Users\\admin\\Desktop\\Aditya python\\olist_customers_dataset.csv\n"
     ]
    }
   ],
   "source": [
    "import os\n",
    "\n",
    "base_path = r\"C:\\Users\\admin\\Desktop\\Aditya python\"\n",
    "\n",
    "tables = { \"customer\": \"olist_customers_dataset.csv\",}\n",
    "\n",
    "for table, filename in tables.items():\n",
    "    csv_path = os.path.join(base_path, filename)\n",
    "    print(f\"Loading {table} from {csv_path}\")\n",
    "    df = pd.read_csv(csv_path)\n",
    "    df.to_sql(table, engine, if_exists=\"replace\", index=False,schema='dbo')\n"
   ]
  },
  {
   "cell_type": "code",
   "execution_count": 5,
   "id": "76f80328-aa32-4f71-b583-db2a215235ef",
   "metadata": {},
   "outputs": [
    {
     "data": {
      "text/html": [
       "<div>\n",
       "<style scoped>\n",
       "    .dataframe tbody tr th:only-of-type {\n",
       "        vertical-align: middle;\n",
       "    }\n",
       "\n",
       "    .dataframe tbody tr th {\n",
       "        vertical-align: top;\n",
       "    }\n",
       "\n",
       "    .dataframe thead th {\n",
       "        text-align: right;\n",
       "    }\n",
       "</style>\n",
       "<table border=\"1\" class=\"dataframe\">\n",
       "  <thead>\n",
       "    <tr style=\"text-align: right;\">\n",
       "      <th></th>\n",
       "      <th>customer_id</th>\n",
       "      <th>customer_unique_id</th>\n",
       "      <th>customer_zip_code_prefix</th>\n",
       "      <th>customer_city</th>\n",
       "      <th>customer_state</th>\n",
       "    </tr>\n",
       "  </thead>\n",
       "  <tbody>\n",
       "    <tr>\n",
       "      <th>0</th>\n",
       "      <td>06b8999e2fba1a1fbc88172c00ba8bc7</td>\n",
       "      <td>861eff4711a542e4b93843c6dd7febb0</td>\n",
       "      <td>14409</td>\n",
       "      <td>franca</td>\n",
       "      <td>SP</td>\n",
       "    </tr>\n",
       "    <tr>\n",
       "      <th>1</th>\n",
       "      <td>18955e83d337fd6b2def6b18a428ac77</td>\n",
       "      <td>290c77bc529b7ac935b93aa66c333dc3</td>\n",
       "      <td>9790</td>\n",
       "      <td>sao bernardo do campo</td>\n",
       "      <td>SP</td>\n",
       "    </tr>\n",
       "    <tr>\n",
       "      <th>2</th>\n",
       "      <td>4e7b3e00288586ebd08712fdd0374a03</td>\n",
       "      <td>060e732b5b29e8181a18229c7b0b2b5e</td>\n",
       "      <td>1151</td>\n",
       "      <td>sao paulo</td>\n",
       "      <td>SP</td>\n",
       "    </tr>\n",
       "    <tr>\n",
       "      <th>3</th>\n",
       "      <td>b2b6027bc5c5109e529d4dc6358b12c3</td>\n",
       "      <td>259dac757896d24d7702b9acbbff3f3c</td>\n",
       "      <td>8775</td>\n",
       "      <td>mogi das cruzes</td>\n",
       "      <td>SP</td>\n",
       "    </tr>\n",
       "    <tr>\n",
       "      <th>4</th>\n",
       "      <td>4f2d8ab171c80ec8364f7c12e35b23ad</td>\n",
       "      <td>345ecd01c38d18a9036ed96c73b8d066</td>\n",
       "      <td>13056</td>\n",
       "      <td>campinas</td>\n",
       "      <td>SP</td>\n",
       "    </tr>\n",
       "  </tbody>\n",
       "</table>\n",
       "</div>"
      ],
      "text/plain": [
       "                        customer_id                customer_unique_id  \\\n",
       "0  06b8999e2fba1a1fbc88172c00ba8bc7  861eff4711a542e4b93843c6dd7febb0   \n",
       "1  18955e83d337fd6b2def6b18a428ac77  290c77bc529b7ac935b93aa66c333dc3   \n",
       "2  4e7b3e00288586ebd08712fdd0374a03  060e732b5b29e8181a18229c7b0b2b5e   \n",
       "3  b2b6027bc5c5109e529d4dc6358b12c3  259dac757896d24d7702b9acbbff3f3c   \n",
       "4  4f2d8ab171c80ec8364f7c12e35b23ad  345ecd01c38d18a9036ed96c73b8d066   \n",
       "\n",
       "   customer_zip_code_prefix          customer_city customer_state  \n",
       "0                     14409                 franca             SP  \n",
       "1                      9790  sao bernardo do campo             SP  \n",
       "2                      1151              sao paulo             SP  \n",
       "3                      8775        mogi das cruzes             SP  \n",
       "4                     13056               campinas             SP  "
      ]
     },
     "execution_count": 5,
     "metadata": {},
     "output_type": "execute_result"
    }
   ],
   "source": [
    "df_check = pd.read_sql(\"SELECT TOP 5 * FROM customers\", engine)\n",
    "df_check\n"
   ]
  },
  {
   "cell_type": "code",
   "execution_count": 13,
   "id": "c72b52f4-a353-4faa-ae73-d90121a45c7a",
   "metadata": {},
   "outputs": [
    {
     "name": "stdout",
     "output_type": "stream",
     "text": [
      "✅ KPIs computed and stored in SQL Server.\n"
     ]
    }
   ],
   "source": [
    "import pandas as pd\n",
    "import urllib\n",
    "from sqlalchemy import create_engine\n",
    "\n",
    "def get_sql_engine():\n",
    "    server = 'DESKTOP-6UNL5C8\\\\SQLEXPRESS'\n",
    "    database = 'olist'\n",
    "    conn_str = (\n",
    "        f\"DRIVER={{ODBC Driver 17 for SQL Server}};\"\n",
    "        f\"SERVER={server};\"\n",
    "        f\"DATABASE={database};\"\n",
    "        \"Trusted_Connection=yes;\"\n",
    "    )\n",
    "    conn_url = urllib.parse.quote_plus(conn_str)\n",
    "    return create_engine(f\"mssql+pyodbc:///?odbc_connect={conn_url}\")\n",
    "\n",
    "def compute_customer_kpis():\n",
    "    engine = get_sql_engine()\n",
    "\n",
    "    # Load customer data\n",
    "    customers = pd.read_sql(\"SELECT * FROM dbo.customer\", engine)\n",
    "\n",
    "    # KPI 1: Total number of unique customers\n",
    "    total_customers = customers['customer_unique_id'].nunique()\n",
    "    kpi_total_customers = pd.DataFrame({\n",
    "        'kpi': ['total_unique_customers'],\n",
    "        'value': [total_customers]\n",
    "    })\n",
    "\n",
    "    # KPI 2: Number of customers by state\n",
    "    customers_by_state = customers.groupby('customer_state').size().reset_index(name='customer_count')\n",
    "\n",
    "    # KPI 3: Most common customer city\n",
    "    top_city = customers['customer_city'].value_counts().idxmax()\n",
    "    top_city_count = customers['customer_city'].value_counts().max()\n",
    "    kpi_top_city = pd.DataFrame({\n",
    "        'kpi': ['most_common_city'],\n",
    "        'value': [f\"{top_city} ({top_city_count} customers)\"]\n",
    "    })\n",
    "\n",
    "    # Save results to SQL Server\n",
    "    kpi_total_customers.to_sql(\"kpi_total_customers\", engine, if_exists=\"replace\", index=False, schema=\"dbo\")\n",
    "    customers_by_state.to_sql(\"kpi_customers_by_state\", engine, if_exists=\"replace\", index=False, schema=\"dbo\")\n",
    "    kpi_top_city.to_sql(\"kpi_top_customer_city\", engine, if_exists=\"replace\", index=False, schema=\"dbo\")\n",
    "\n",
    "    print(\"✅ KPIs computed and stored in SQL Server.\")\n",
    "\n",
    "if __name__ == \"__main__\":\n",
    "    compute_customer_kpis()\n"
   ]
  },
  {
   "cell_type": "code",
   "execution_count": 17,
   "id": "b5a5c981-95b6-4614-b3b9-044caf23ee40",
   "metadata": {},
   "outputs": [
    {
     "name": "stdout",
     "output_type": "stream",
     "text": [
      "                      kpi  value\n",
      "0  total_unique_customers  96096\n",
      "✅ Total Unique Customers: 96096\n"
     ]
    }
   ],
   "source": [
    "df_total = pd.read_sql(\"SELECT * FROM dbo.kpi_total_customers\", engine)\n",
    "print(df_total)\n",
    "\n",
    "# Just display as text\n",
    "print(f\"✅ Total Unique Customers: {df_total['value'].values[0]}\")\n"
   ]
  },
  {
   "cell_type": "code",
   "execution_count": 18,
   "id": "2d3c656f-2483-4842-93e9-c8d83b34a9ef",
   "metadata": {},
   "outputs": [
    {
     "data": {
      "image/png": "[encoded data removed]",
      "text/plain": [
       "<Figure size 1000x600 with 1 Axes>"
      ]
     },
     "metadata": {},
     "output_type": "display_data"
    }
   ],
   "source": [
    "df_state = pd.read_sql(\"SELECT * FROM dbo.kpi_customers_by_state\", engine)\n",
    "\n",
    "# Plot\n",
    "plt.figure(figsize=(10, 6))\n",
    "sns.barplot(data=df_state.sort_values(by=\"customer_count\", ascending=False), \n",
    "            x=\"customer_state\", y=\"customer_count\", palette=\"viridis\")\n",
    "\n",
    "plt.title(\"Number of Customers by State\")\n",
    "plt.xlabel(\"State\")\n",
    "plt.ylabel(\"Customer Count\")\n",
    "plt.xticks(rotation=45)\n",
    "plt.tight_layout()\n",
    "plt.show()\n"
   ]
  },
  {
   "cell_type": "code",
   "execution_count": 16,
   "id": "b26c043c-d848-46f0-b83e-77c9d8fd7fe4",
   "metadata": {},
   "outputs": [
    {
     "name": "stdout",
     "output_type": "stream",
     "text": [
      "                kpi                        value\n",
      "0  most_common_city  sao paulo (15540 customers)\n",
      "🏙️ Most Common Customer City: sao paulo (15540 customers)\n"
     ]
    }
   ],
   "source": [
    "df_city = pd.read_sql(\"SELECT * FROM dbo.kpi_top_customer_city\", engine)\n",
    "print(df_city)\n",
    "\n",
    "# Display result as text\n",
    "print(f\"🏙️ Most Common Customer City: {df_city['value'].values[0]}\")\n"
   ]
  },
  {
   "cell_type": "code",
   "execution_count": null,
   "id": "7334adf9-d449-4ee8-9425-b1d8f82038dd",
   "metadata": {},
   "outputs": [],
   "source": []
  }
 ],
 "metadata": {
  "kernelspec": {
   "display_name": "Python 3 (ipykernel)",
   "language": "python",
   "name": "python3"
  },
  "language_info": {
   "codemirror_mode": {
    "name": "ipython",
    "version": 3
   },
   "file_extension": ".py",
   "mimetype": "text/x-python",
   "name": "python",
   "nbconvert_exporter": "python",
   "pygments_lexer": "ipython3",
   "version": "3.11.7"
  }
 },
 "nbformat": 4,
 "nbformat_minor": 5
}
